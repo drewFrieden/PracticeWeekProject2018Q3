{
 "cells": [
  {
   "cell_type": "markdown",
   "metadata": {},
   "source": [
    "# Team Ytterbium Introduction"
   ]
  },
  {
   "cell_type": "markdown",
   "metadata": {},
   "source": [
    "### Who’s on the team:\n",
    "### <center>Alla Hoffman</center>\n",
    "![alt text](https://6a793776fd9008fffd9a-caeecdc0644a1eb3d3a623d981752354.ssl.cf1.rackcdn.com/photos/40480-1-4.jpg \"Alla Hoffman\")\n",
    "\n",
    "### <center>Chris Poole</center>\n",
    "![alt text](https://6a793776fd9008fffd9a-caeecdc0644a1eb3d3a623d981752354.ssl.cf1.rackcdn.com/photos/40841-1-4.jpg \"Chris Poole\")\n",
    "\n",
    "### <center>Drew Frieden</center>\n",
    "![alt text](https://6a793776fd9008fffd9a-caeecdc0644a1eb3d3a623d981752354.ssl.cf1.rackcdn.com/photos/40848-1-4.jpg \"Drew Frieden\")\n",
    "\n",
    "### <center>Joe Strauss</center>\n",
    "![alt text](https://6a793776fd9008fffd9a-caeecdc0644a1eb3d3a623d981752354.ssl.cf1.rackcdn.com/photos/40777-0-4.jpg \"Joe Strauss\")\n",
    "\n",
    "### <center>Jose Espogeira</center>\n",
    "![alt text](https://6a793776fd9008fffd9a-caeecdc0644a1eb3d3a623d981752354.ssl.cf1.rackcdn.com/photos/40773-0-4.jpg \"Jose Espogeira\")\n",
    "\n",
    "### <center>Katherine Nivens</center>\n",
    "![alt text](https://6a793776fd9008fffd9a-caeecdc0644a1eb3d3a623d981752354.ssl.cf1.rackcdn.com/photos/40705-0-4.jpg \"Katherine Nivens\")"
   ]
  },
  {
   "cell_type": "markdown",
   "metadata": {},
   "source": [
    "### Ytterbium (Yb)\n",
    "[“Ytterbium has few uses. It can be alloyed with stainless steel to improve some of its mechanical properties and used as a doping agent in fiber optic cable where it can be used as an amplifier. One of Ytterbium's isotopes is being considered as a radiation source for portable X-ray machines.”](https://education.jlab.org/itselemental/ele070.html)\n",
    "\n",
    "![alt text](https://raw.githubusercontent.com/drewFrieden/PracticeWeekProject2018Q3/master/Notebooks/Presentation/Images/Ytterbium.jpg \"Ytterbium\")"
   ]
  },
  {
   "cell_type": "markdown",
   "metadata": {},
   "source": [
    "# Project Overview"
   ]
  },
  {
   "cell_type": "markdown",
   "metadata": {},
   "source": [
    "[Jira ticket](https://buildium.atlassian.net/browse/PW-203)\n",
    "\n",
    "Our goal was to create a machine learning model that can predict whether an image is a specific type of document."
   ]
  },
  {
   "cell_type": "markdown",
   "metadata": {},
   "source": [
    "# What is Machine Learning?"
   ]
  },
  {
   "cell_type": "markdown",
   "metadata": {},
   "source": [
    "[“Using data to answer questions.”](https://www.youtube.com/watch?v=HcqpanDadyQ)\n",
    "\n",
    "[“Machine learning is a field of computer science that uses statistical techniques to give computer systems the ability to \"learn\" (e.g., progressively improve performance on a specific task) with data, without being explicitly programmed.”](https://en.wikipedia.org/wiki/Machine_learning)"
   ]
  },
  {
   "cell_type": "markdown",
   "metadata": {},
   "source": [
    "# What is Deep Learning?"
   ]
  },
  {
   "cell_type": "markdown",
   "metadata": {},
   "source": [
    "[“Machine learning covers deep learning. Features are given [to] machine learning [models] manually. On the other hand, deep learning [models] learn features directly from data.”](https://www.kaggle.com/kanncaa1/deep-learning-tutorial-for-beginners)"
   ]
  },
  {
   "cell_type": "markdown",
   "metadata": {},
   "source": [
    "# Why Explore Machine Learning During Practice Week?"
   ]
  },
  {
   "cell_type": "markdown",
   "metadata": {},
   "source": [
    "Everyone on our team is interested in machine learning and can see the value in it. Aside from classifying documents, our ideas for how machine learning can be used at Buildium include:\n",
    "* Predicting rent cost & letting customers know when they're charging below market\n",
    "* Predicting when maintenance should be done on a property\n",
    "* Personalizing our app\n",
    "* Suggesting features or workflows customers might not know about but seem like good fits\n",
    "* Identifying curb appeal level of listings photos\n",
    "* Increase searchability of user-uploaded files by doing some automated categorizing\n",
    "* Determine resident risk level (i.e. delinquent tenants, outstanding balances)\n",
    "* Suggest property manager actions that improve rentability\n",
    "* Detecting fraud in Buildium accounts\n",
    "* Determine what makes a good Buildium user"
   ]
  },
  {
   "cell_type": "markdown",
   "metadata": {},
   "source": [
    "# How Is Machine Learning Used In Our Industry?"
   ]
  },
  {
   "cell_type": "markdown",
   "metadata": {},
   "source": [
    "* [Zenplace](https://tech.co/zenplace-reinventing-55-billion-property-management-industry-2017-02) uses machine learning to predict when property maintenance should be performed\n",
    "* [Renthub](https://renthub.com/) uses machine learning for monitoring rental markets to provide analytics\n",
    "* [Vacasa](https://www.vacasa.com/property-management/) uses machine learning for dynamic pricing for vacation rentals"
   ]
  },
  {
   "cell_type": "markdown",
   "metadata": {},
   "source": [
    "# Why Classify Images Customers Upload?"
   ]
  },
  {
   "cell_type": "markdown",
   "metadata": {},
   "source": [
    "Because we are creating the frictionless user experience. Users upload images to our application and we automatically know what to do with them."
   ]
  },
  {
   "cell_type": "markdown",
   "metadata": {},
   "source": [
    "# The Ytterbium Story"
   ]
  },
  {
   "cell_type": "markdown",
   "metadata": {},
   "source": [
    "* We started practice week with an eagerness to explore machine learning but we had very little prior knowledge.\n",
    "* Monday and Tuesday we spent learning about machine learning and deep learning.\n",
    "* The rest of the week we got our hands dirty building our own models and datasets.\n",
    "* Our story has a twist! By Thursday we realized our model for classifying different document types wasn’t performing as well as we hoped. We were consistently predicting between 60% - 80% accuracy. The more data we fed the model, the better it predicted the document type but we were constrained working with a small dataset.\n",
    "* We decided to pivot and create a model that classifies whether an image is a document or a photo. With this change the majority of our results have been between 90% to 100% accuracy."
   ]
  },
  {
   "cell_type": "markdown",
   "metadata": {},
   "source": [
    "# Technologies We Used\n",
    "* Jupyter Notebook\n",
    "* Python\n",
    "* Notable Python packages used:\n",
    "    * Numpy\n",
    "    * Scikit-learn\n",
    "    * Keras\n",
    "    * OpenCV\n",
    "    * Matplotlib\n",
    "    \n",
    "![alt text](https://raw.githubusercontent.com/drewFrieden/PracticeWeekProject2018Q3/master/Notebooks/Presentation/Images/Jupyter.png \"Jupyter Notebook\")\n",
    "![alt text](https://raw.githubusercontent.com/drewFrieden/PracticeWeekProject2018Q3/master/Notebooks/Presentation/Images/Python.png \"Python\")\n",
    "![alt text](https://raw.githubusercontent.com/drewFrieden/PracticeWeekProject2018Q3/master/Notebooks/Presentation/Images/Keras.png \"Keras\")"
   ]
  },
  {
   "cell_type": "markdown",
   "metadata": {},
   "source": [
    "# Dataset We Used\n",
    "### Documents:\n",
    "## <center>1099s</center>\n",
    "![alt text](https://raw.githubusercontent.com/drewFrieden/PracticeWeekProject2018Q3/master/Notebooks/Presentation/Images/1099.jpg \"1099\")\n",
    "\n",
    "## <center>Rental applications</center>\n",
    "![alt text](https://raw.githubusercontent.com/drewFrieden/PracticeWeekProject2018Q3/master/Notebooks/Presentation/Images/Application.jpg \"rental application\")\n",
    "\n",
    "## <center>Leases</center>\n",
    "![alt text](https://raw.githubusercontent.com/drewFrieden/PracticeWeekProject2018Q3/master/Notebooks/Presentation/Images/Lease.jpg \"lease\")\n",
    "\n",
    "---\n",
    "### Photos:\n",
    "## <center>Apartments</center>\n",
    "![alt text](https://raw.githubusercontent.com/drewFrieden/PracticeWeekProject2018Q3/master/Notebooks/Presentation/Images/Apartment.jpg \"beautiful apartment building\")\n",
    "\n",
    "## <center>Alla's Holi celebration</center>\n",
    "![alt text](https://raw.githubusercontent.com/drewFrieden/PracticeWeekProject2018Q3/master/Notebooks/Presentation/Images/Holi.jpg \"Holi\")"
   ]
  },
  {
   "cell_type": "markdown",
   "metadata": {},
   "source": [
    "# Building The Model\n",
    "\n",
    "* Neural network: [“A model that, taking inspiration from the brain, is composed of layers (at least one of which is hidden) consisting of simple connected units or neurons followed by nonlinearities.”](https://developers.google.com/machine-learning/glossary/#neural_network)\n",
    "![alt text](https://raw.githubusercontent.com/drewFrieden/PracticeWeekProject2018Q3/master/Notebooks/Presentation/Images/NeuralNetwork.png \"neural network\")\n",
    "\n",
    "\n",
    "## Layers in our neural network\n",
    "\n",
    "Neural networks are composed of layers. One of the most common neural network structures is composed of 3 kinds of layers; input, hidden, and output.\n",
    "\n",
    "Input layers intake information about the data you feed the neural network. They don't perform computations on the data; they just represent slices of it to the best of their ability.\n",
    "\n",
    "The hidden layers are where the computation happens. They take output from the input layers and process it in a way that's intended to mimic what a neuron does by multiplying the information they get from the input layers by weights and using an activation function. Activation functions are mathematical functions that mimic the way a neuron decides to fire or not fire. Those weights are what a nerual network is developing while it's training - as an NN tries to classify a training set, errors are backwards propagated such that the NN can start caring more about inputs that give it better classification results over time. \n",
    "\n",
    "Finally, the output layer processes the results of the hidden layer to make its final classification of the data - in our case photo y/n or document y/n\n",
    "\n",
    "* Convolutional Neural Network: [“A neural network in which at least one layer is a convolutional layer. A typical convolutional neural network consists of some combination of… convolutional, pooling, and dense layers. Convolutional neural networks have had great success in certain kinds of problems, such as image recognition.”](https://developers.google.com/machine-learning/glossary/#convolutional_neural_network)"
   ]
  },
  {
   "cell_type": "markdown",
   "metadata": {},
   "source": [
    "## Machine learning for images\n",
    "\n",
    "Image classification is a supervised learning problem: define a set of target classes (objects to identify in images), and train a model to recognize them using labeled example photos. Classic computer vision models used features derived from pixel data, such as color histograms, textures, and shapes. The downside of this approach was that feature engineering became a real burden, as there were so many inputs to tweak. For a cat classifier, which colors were most relevant? How flexible should the shape definitions be? \n",
    "\n",
    "Introducing Convolutional Neural Networks! CNN's could be used to progressively extract higher- and higher-level representations of the image content.\n",
    "\n",
    "![alt text](https://developers.google.com/machine-learning/practica/image-classification/images/convolution_overview.gif \"convolution\")\n",
    "\n",
    "As the number of filters (output feature map depth) applied to the input increases, so does the number of features the CNN can extract. Each filter added to the network provides less incremental value than the previous one, so we want to construct networks that use the minimum number of filters needed to extract the features necessary for accurate image classification.\n",
    "\n",
    "Our example is a very simple/naive model that uses 3 fully connected (or dense) layers."
   ]
  },
  {
   "cell_type": "markdown",
   "metadata": {},
   "source": [
    "# The Code"
   ]
  },
  {
   "cell_type": "markdown",
   "metadata": {},
   "source": [
    "## Import python packages"
   ]
  },
  {
   "cell_type": "code",
   "execution_count": 4,
   "metadata": {},
   "outputs": [
    {
     "name": "stderr",
     "output_type": "stream",
     "text": [
      "/anaconda3/lib/python3.6/site-packages/h5py/__init__.py:36: FutureWarning: Conversion of the second argument of issubdtype from `float` to `np.floating` is deprecated. In future, it will be treated as `np.float64 == np.dtype(float).type`.\n",
      "  from ._conv import register_converters as _register_converters\n",
      "Using TensorFlow backend.\n"
     ]
    }
   ],
   "source": [
    "# set the matplotlib backend so figures can be saved in the background\n",
    "import matplotlib\n",
    "%matplotlib inline\n",
    " \n",
    "# import the necessary packages\n",
    "from sklearn.preprocessing import LabelBinarizer\n",
    "from sklearn.model_selection import train_test_split\n",
    "from sklearn.metrics import classification_report\n",
    "from sklearn.metrics import accuracy_score\n",
    "from keras.models import Sequential\n",
    "from keras.layers.core import Dense\n",
    "from keras.optimizers import SGD\n",
    "from keras.utils import to_categorical\n",
    "from imutils import paths\n",
    "import matplotlib.pyplot as plt\n",
    "import numpy as np\n",
    "import argparse\n",
    "import random\n",
    "import pickle\n",
    "import cv2\n",
    "import os\n",
    "import requests"
   ]
  },
  {
   "cell_type": "markdown",
   "metadata": {},
   "source": [
    "## Configure your paths here"
   ]
  },
  {
   "cell_type": "code",
   "execution_count": 5,
   "metadata": {},
   "outputs": [],
   "source": [
    "PROJECT_DIRECTORY = '/Users/cpoole/Git/PracticeWeekProject2018Q3/CNN_Simple_Model_2_Categories'\n",
    "IMAGE_DIRECTORY = str.format('{}/doctypes', PROJECT_DIRECTORY)\n",
    "PLOT = str.format('{}/Output.png', PROJECT_DIRECTORY)\n",
    "MODEL = str.format('/{}/Model.h5', PROJECT_DIRECTORY)"
   ]
  },
  {
   "cell_type": "code",
   "execution_count": 6,
   "metadata": {},
   "outputs": [
    {
     "name": "stdout",
     "output_type": "stream",
     "text": [
      "[INFO] loading images...\n"
     ]
    }
   ],
   "source": [
    "# initialize the data and labels\n",
    "print(\"[INFO] loading images...\")\n",
    "data = []\n",
    "labels = []"
   ]
  },
  {
   "cell_type": "code",
   "execution_count": 7,
   "metadata": {},
   "outputs": [],
   "source": [
    "# grab the image paths and randomly shuffle them\n",
    "imagePaths = sorted(list(paths.list_images(IMAGE_DIRECTORY)))\n",
    "random.seed(42)\n",
    "random.shuffle(imagePaths)"
   ]
  },
  {
   "cell_type": "code",
   "execution_count": 8,
   "metadata": {},
   "outputs": [],
   "source": [
    "# loop over the input images\n",
    "for imagePath in imagePaths:\n",
    "    # load the image, resize the image to be 32x32 pixels (ignoring\n",
    "    # aspect ratio), flatten the image into 32x32x3=3072 pixel image\n",
    "    # into a list, and store the image in the data list\n",
    "    image = cv2.imread(imagePath)\n",
    "    image = cv2.resize(image, (32, 32)).flatten()\n",
    "    data.append(image)\n",
    " \n",
    "    # extract the class label from the image path and update the\n",
    "    # labels list\n",
    "    label = imagePath.split(os.path.sep)[-2]\n",
    "    labels.append(label)"
   ]
  },
  {
   "cell_type": "code",
   "execution_count": 9,
   "metadata": {},
   "outputs": [],
   "source": [
    "# scale the raw pixel intensities to the range [0, 1]\n",
    "data = np.array(data, dtype=\"float\") / 255.0\n",
    "labels = np.array(labels)"
   ]
  },
  {
   "cell_type": "code",
   "execution_count": 10,
   "metadata": {},
   "outputs": [
    {
     "data": {
      "text/plain": [
       "(559, 3072)"
      ]
     },
     "execution_count": 10,
     "metadata": {},
     "output_type": "execute_result"
    }
   ],
   "source": [
    "data.shape"
   ]
  },
  {
   "cell_type": "code",
   "execution_count": 11,
   "metadata": {},
   "outputs": [],
   "source": [
    "# partition the data into training and testing splits using 70% of\n",
    "# the data for training and the remaining 30% for testing\n",
    "(trainX, testX, trainY, testY) = train_test_split(data, labels, test_size=0.30, random_state=42)"
   ]
  },
  {
   "cell_type": "code",
   "execution_count": 12,
   "metadata": {},
   "outputs": [],
   "source": [
    "# convert the labels from integers to vectors (for 2-class, binary\n",
    "# classification you should use Keras' to_categorical function\n",
    "# instead as the scikit-learn's LabelBinarizer will not return a\n",
    "# vector)\n",
    "lb = LabelBinarizer()\n",
    "trainY = to_categorical(trainY)\n",
    "testY = to_categorical(testY)"
   ]
  },
  {
   "cell_type": "code",
   "execution_count": 13,
   "metadata": {},
   "outputs": [],
   "source": [
    "# define the 3072-1024-512-3 architecture using Keras\n",
    "model = Sequential()\n",
    "model.add(Dense(1024, input_shape=(3072,), activation=\"sigmoid\"))\n",
    "model.add(Dense(512, activation=\"sigmoid\"))\n",
    "model.add(Dense(2, activation=\"softmax\"))"
   ]
  },
  {
   "cell_type": "code",
   "execution_count": 14,
   "metadata": {},
   "outputs": [],
   "source": [
    "# initialize our initial learning rate and # of epochs to train for\n",
    "INIT_LR = 0.01\n",
    "EPOCHS =75"
   ]
  },
  {
   "cell_type": "code",
   "execution_count": 15,
   "metadata": {},
   "outputs": [
    {
     "name": "stdout",
     "output_type": "stream",
     "text": [
      "[INFO] training network...\n"
     ]
    }
   ],
   "source": [
    "# compilg the model using SGD as our optimizer and categorical\n",
    "# cross-entropy loss (you'll want to use binary_crossentropy\n",
    "# for 2-class classification)\n",
    "print(\"[INFO] training network...\")\n",
    "opt = SGD(lr=INIT_LR)\n",
    "model.compile(loss=\"categorical_crossentropy\", optimizer=opt, metrics=[\"accuracy\"])"
   ]
  },
  {
   "cell_type": "markdown",
   "metadata": {},
   "source": [
    "## Tuning the model with gradient descent, epochs, batch size, and iterations\n",
    "\n",
    "* __GRADIENT DESCENT__: It is an iterative optimization algorithm used in machine learning to find the best results (minimum of a curve).\n",
    "\n",
    "* __EPOCHS__: One Epoch is when an ENTIRE dataset is passed/analyzed back and forward through the neural network only ONCE.\n",
    "\n",
    "We use more than one epoch, because we use the GD algorithm.\n",
    "Since, one epoch is too big to feed to the computer at once we divide it in several smaller batches.\n",
    "\n",
    "* __BATCH__ - because of computacional constraints we can't pass the entire dataset at once. We need to devide it into a number of sets. A batch represent a limited number of traininig examples in a dataset.\n",
    "\n",
    "* __ITERATIONS__ - is the number of batches needed to complete an Epoch"
   ]
  },
  {
   "cell_type": "code",
   "execution_count": 16,
   "metadata": {},
   "outputs": [
    {
     "name": "stdout",
     "output_type": "stream",
     "text": [
      "Train on 391 samples, validate on 168 samples\n",
      "Epoch 1/75\n",
      "391/391 [==============================] - 1s 3ms/step - loss: 0.7033 - acc: 0.5601 - val_loss: 0.6573 - val_acc: 0.5000\n",
      "Epoch 2/75\n",
      "391/391 [==============================] - 0s 806us/step - loss: 0.6400 - acc: 0.6880 - val_loss: 0.6114 - val_acc: 0.5655\n",
      "Epoch 3/75\n",
      "391/391 [==============================] - 0s 807us/step - loss: 0.5918 - acc: 0.7826 - val_loss: 0.6948 - val_acc: 0.5000\n",
      "Epoch 4/75\n",
      "391/391 [==============================] - 0s 880us/step - loss: 0.5639 - acc: 0.8926 - val_loss: 0.5283 - val_acc: 0.9048\n",
      "Epoch 5/75\n",
      "391/391 [==============================] - 0s 882us/step - loss: 0.5197 - acc: 0.9054 - val_loss: 0.4936 - val_acc: 0.9821\n",
      "Epoch 6/75\n",
      "391/391 [==============================] - 0s 885us/step - loss: 0.4899 - acc: 0.9565 - val_loss: 0.4688 - val_acc: 0.9286\n",
      "Epoch 7/75\n",
      "391/391 [==============================] - 0s 902us/step - loss: 0.4623 - acc: 0.9463 - val_loss: 0.4409 - val_acc: 0.9821\n",
      "Epoch 8/75\n",
      "391/391 [==============================] - 0s 926us/step - loss: 0.4417 - acc: 0.9616 - val_loss: 0.4134 - val_acc: 0.9702\n",
      "Epoch 9/75\n",
      "391/391 [==============================] - 0s 927us/step - loss: 0.4151 - acc: 0.9795 - val_loss: 0.3877 - val_acc: 0.9881\n",
      "Epoch 10/75\n",
      "391/391 [==============================] - 0s 898us/step - loss: 0.3975 - acc: 0.9693 - val_loss: 0.4147 - val_acc: 0.8452\n",
      "Epoch 11/75\n",
      "391/391 [==============================] - 0s 900us/step - loss: 0.3824 - acc: 0.9591 - val_loss: 0.4565 - val_acc: 0.6964\n",
      "Epoch 12/75\n",
      "391/391 [==============================] - 0s 908us/step - loss: 0.3648 - acc: 0.9437 - val_loss: 0.3334 - val_acc: 0.9762\n",
      "Epoch 13/75\n",
      "391/391 [==============================] - 0s 917us/step - loss: 0.3323 - acc: 0.9744 - val_loss: 0.3133 - val_acc: 0.9821\n",
      "Epoch 14/75\n",
      "391/391 [==============================] - 0s 896us/step - loss: 0.3178 - acc: 0.9770 - val_loss: 0.2993 - val_acc: 0.9881\n",
      "Epoch 15/75\n",
      "391/391 [==============================] - 0s 891us/step - loss: 0.3035 - acc: 0.9795 - val_loss: 0.2842 - val_acc: 0.9821\n",
      "Epoch 16/75\n",
      "391/391 [==============================] - 0s 906us/step - loss: 0.2899 - acc: 0.9795 - val_loss: 0.2715 - val_acc: 0.9821\n",
      "Epoch 17/75\n",
      "391/391 [==============================] - 0s 893us/step - loss: 0.2729 - acc: 0.9872 - val_loss: 0.2823 - val_acc: 0.9524\n",
      "Epoch 18/75\n",
      "391/391 [==============================] - 0s 865us/step - loss: 0.2657 - acc: 0.9795 - val_loss: 0.2805 - val_acc: 0.9405\n",
      "Epoch 19/75\n",
      "391/391 [==============================] - 0s 929us/step - loss: 0.2567 - acc: 0.9795 - val_loss: 0.2490 - val_acc: 0.9762\n",
      "Epoch 20/75\n",
      "391/391 [==============================] - 0s 939us/step - loss: 0.2428 - acc: 0.9821 - val_loss: 0.2361 - val_acc: 0.9821\n",
      "Epoch 21/75\n",
      "391/391 [==============================] - 0s 921us/step - loss: 0.2326 - acc: 0.9847 - val_loss: 0.2248 - val_acc: 0.9821\n",
      "Epoch 22/75\n",
      "391/391 [==============================] - 0s 930us/step - loss: 0.2240 - acc: 0.9795 - val_loss: 0.2170 - val_acc: 0.9821\n",
      "Epoch 23/75\n",
      "391/391 [==============================] - 0s 928us/step - loss: 0.2163 - acc: 0.9795 - val_loss: 0.2015 - val_acc: 0.9762\n",
      "Epoch 24/75\n",
      "391/391 [==============================] - 0s 933us/step - loss: 0.2061 - acc: 0.9847 - val_loss: 0.1938 - val_acc: 0.9762\n",
      "Epoch 25/75\n",
      "391/391 [==============================] - 0s 916us/step - loss: 0.2014 - acc: 0.9847 - val_loss: 0.1952 - val_acc: 0.9821\n",
      "Epoch 26/75\n",
      "391/391 [==============================] - 0s 924us/step - loss: 0.1916 - acc: 0.9821 - val_loss: 0.1823 - val_acc: 0.9881\n",
      "Epoch 27/75\n",
      "391/391 [==============================] - 0s 946us/step - loss: 0.1847 - acc: 0.9847 - val_loss: 0.1739 - val_acc: 0.9821\n",
      "Epoch 28/75\n",
      "391/391 [==============================] - 0s 935us/step - loss: 0.1765 - acc: 0.9847 - val_loss: 0.1680 - val_acc: 0.9762\n",
      "Epoch 29/75\n",
      "391/391 [==============================] - 0s 902us/step - loss: 0.1712 - acc: 0.9795 - val_loss: 0.1702 - val_acc: 0.9821\n",
      "Epoch 30/75\n",
      "391/391 [==============================] - 0s 931us/step - loss: 0.1649 - acc: 0.9847 - val_loss: 0.1601 - val_acc: 0.9881\n",
      "Epoch 31/75\n",
      "391/391 [==============================] - 0s 914us/step - loss: 0.1598 - acc: 0.9795 - val_loss: 0.1538 - val_acc: 0.9821\n",
      "Epoch 32/75\n",
      "391/391 [==============================] - 0s 929us/step - loss: 0.1543 - acc: 0.9872 - val_loss: 0.1477 - val_acc: 0.9821\n",
      "Epoch 33/75\n",
      "391/391 [==============================] - 0s 936us/step - loss: 0.1492 - acc: 0.9847 - val_loss: 0.1501 - val_acc: 0.9821\n",
      "Epoch 34/75\n",
      "391/391 [==============================] - 0s 954us/step - loss: 0.1447 - acc: 0.9847 - val_loss: 0.1425 - val_acc: 0.9821\n",
      "Epoch 35/75\n",
      "391/391 [==============================] - 0s 900us/step - loss: 0.1411 - acc: 0.9847 - val_loss: 0.1485 - val_acc: 0.9821\n",
      "Epoch 36/75\n",
      "391/391 [==============================] - 0s 964us/step - loss: 0.1372 - acc: 0.9872 - val_loss: 0.1430 - val_acc: 0.9821\n",
      "Epoch 37/75\n",
      "391/391 [==============================] - 0s 955us/step - loss: 0.1307 - acc: 0.9923 - val_loss: 0.1472 - val_acc: 0.9821\n",
      "Epoch 38/75\n",
      "391/391 [==============================] - 0s 942us/step - loss: 0.1331 - acc: 0.9847 - val_loss: 0.1264 - val_acc: 0.9881\n",
      "Epoch 39/75\n",
      "391/391 [==============================] - 0s 907us/step - loss: 0.1236 - acc: 0.9872 - val_loss: 0.1260 - val_acc: 0.9881\n",
      "Epoch 40/75\n",
      "391/391 [==============================] - 0s 941us/step - loss: 0.1210 - acc: 0.9847 - val_loss: 0.1270 - val_acc: 0.9821\n",
      "Epoch 41/75\n",
      "391/391 [==============================] - 0s 916us/step - loss: 0.1182 - acc: 0.9898 - val_loss: 0.1186 - val_acc: 0.9881\n",
      "Epoch 42/75\n",
      "391/391 [==============================] - 0s 936us/step - loss: 0.1142 - acc: 0.9898 - val_loss: 0.1137 - val_acc: 0.9881\n",
      "Epoch 43/75\n",
      "391/391 [==============================] - 0s 910us/step - loss: 0.1106 - acc: 0.9923 - val_loss: 0.1114 - val_acc: 0.9881\n",
      "Epoch 44/75\n",
      "391/391 [==============================] - 0s 1ms/step - loss: 0.1076 - acc: 0.9923 - val_loss: 0.1082 - val_acc: 0.9881\n",
      "Epoch 45/75\n",
      "391/391 [==============================] - 0s 1ms/step - loss: 0.1060 - acc: 0.9923 - val_loss: 0.1065 - val_acc: 0.9881\n",
      "Epoch 46/75\n",
      "391/391 [==============================] - 0s 1ms/step - loss: 0.1029 - acc: 0.9923 - val_loss: 0.1036 - val_acc: 0.9881\n",
      "Epoch 47/75\n",
      "391/391 [==============================] - 0s 1ms/step - loss: 0.0999 - acc: 0.9923 - val_loss: 0.1084 - val_acc: 0.9881\n",
      "Epoch 48/75\n",
      "391/391 [==============================] - 0s 1ms/step - loss: 0.0983 - acc: 0.9898 - val_loss: 0.1045 - val_acc: 0.9881\n",
      "Epoch 49/75\n",
      "391/391 [==============================] - 0s 1ms/step - loss: 0.0959 - acc: 0.9898 - val_loss: 0.1014 - val_acc: 0.9881\n",
      "Epoch 50/75\n",
      "391/391 [==============================] - 0s 1000us/step - loss: 0.0939 - acc: 0.9923 - val_loss: 0.0985 - val_acc: 0.9881\n",
      "Epoch 51/75\n",
      "391/391 [==============================] - 0s 973us/step - loss: 0.0917 - acc: 0.9898 - val_loss: 0.1048 - val_acc: 0.9821\n",
      "Epoch 52/75\n",
      "391/391 [==============================] - 0s 983us/step - loss: 0.0904 - acc: 0.9923 - val_loss: 0.0937 - val_acc: 0.9881\n",
      "Epoch 53/75\n",
      "391/391 [==============================] - 0s 989us/step - loss: 0.0874 - acc: 0.9923 - val_loss: 0.0908 - val_acc: 0.9881\n",
      "Epoch 54/75\n",
      "391/391 [==============================] - 0s 943us/step - loss: 0.0870 - acc: 0.9923 - val_loss: 0.0892 - val_acc: 0.9881\n",
      "Epoch 55/75\n",
      "391/391 [==============================] - 0s 998us/step - loss: 0.0837 - acc: 0.9923 - val_loss: 0.0877 - val_acc: 0.9881\n",
      "Epoch 56/75\n",
      "391/391 [==============================] - 0s 1ms/step - loss: 0.0816 - acc: 0.9923 - val_loss: 0.0868 - val_acc: 0.9881\n",
      "Epoch 57/75\n",
      "391/391 [==============================] - 0s 1ms/step - loss: 0.0808 - acc: 0.9923 - val_loss: 0.0856 - val_acc: 0.9881\n",
      "Epoch 58/75\n",
      "391/391 [==============================] - 0s 1ms/step - loss: 0.0785 - acc: 0.9923 - val_loss: 0.0843 - val_acc: 0.9881\n",
      "Epoch 59/75\n",
      "391/391 [==============================] - 0s 985us/step - loss: 0.0773 - acc: 0.9923 - val_loss: 0.0824 - val_acc: 0.9881\n",
      "Epoch 60/75\n",
      "391/391 [==============================] - 0s 949us/step - loss: 0.0757 - acc: 0.9923 - val_loss: 0.0811 - val_acc: 0.9881\n",
      "Epoch 61/75\n"
     ]
    },
    {
     "name": "stdout",
     "output_type": "stream",
     "text": [
      "391/391 [==============================] - 0s 906us/step - loss: 0.0747 - acc: 0.9923 - val_loss: 0.0819 - val_acc: 0.9881\n",
      "Epoch 62/75\n",
      "391/391 [==============================] - 0s 903us/step - loss: 0.0727 - acc: 0.9923 - val_loss: 0.0810 - val_acc: 0.9881\n",
      "Epoch 63/75\n",
      "391/391 [==============================] - 0s 851us/step - loss: 0.0718 - acc: 0.9923 - val_loss: 0.0796 - val_acc: 0.9881\n",
      "Epoch 64/75\n",
      "391/391 [==============================] - 0s 862us/step - loss: 0.0701 - acc: 0.9923 - val_loss: 0.0789 - val_acc: 0.9881\n",
      "Epoch 65/75\n",
      "391/391 [==============================] - 0s 857us/step - loss: 0.0692 - acc: 0.9923 - val_loss: 0.0756 - val_acc: 0.9881\n",
      "Epoch 66/75\n",
      "391/391 [==============================] - 0s 903us/step - loss: 0.0681 - acc: 0.9923 - val_loss: 0.0759 - val_acc: 0.9881\n",
      "Epoch 67/75\n",
      "391/391 [==============================] - 0s 900us/step - loss: 0.0673 - acc: 0.9923 - val_loss: 0.0744 - val_acc: 0.9881\n",
      "Epoch 68/75\n",
      "391/391 [==============================] - 0s 1ms/step - loss: 0.0654 - acc: 0.9923 - val_loss: 0.0729 - val_acc: 0.9940\n",
      "Epoch 69/75\n",
      "391/391 [==============================] - 0s 936us/step - loss: 0.0652 - acc: 0.9923 - val_loss: 0.0730 - val_acc: 0.9881\n",
      "Epoch 70/75\n",
      "391/391 [==============================] - 0s 974us/step - loss: 0.0632 - acc: 0.9923 - val_loss: 0.0711 - val_acc: 0.9881\n",
      "Epoch 71/75\n",
      "391/391 [==============================] - 0s 915us/step - loss: 0.0619 - acc: 0.9923 - val_loss: 0.0778 - val_acc: 0.9881\n",
      "Epoch 72/75\n",
      "391/391 [==============================] - 0s 923us/step - loss: 0.0623 - acc: 0.9923 - val_loss: 0.0697 - val_acc: 0.9881\n",
      "Epoch 73/75\n",
      "391/391 [==============================] - 0s 928us/step - loss: 0.0615 - acc: 0.9898 - val_loss: 0.0697 - val_acc: 0.9881\n",
      "Epoch 74/75\n",
      "391/391 [==============================] - 0s 879us/step - loss: 0.0598 - acc: 0.9923 - val_loss: 0.0690 - val_acc: 0.9881\n",
      "Epoch 75/75\n",
      "391/391 [==============================] - 0s 857us/step - loss: 0.0585 - acc: 0.9923 - val_loss: 0.0706 - val_acc: 0.9881\n"
     ]
    }
   ],
   "source": [
    "# train the neural network\n",
    "H = model.fit(trainX, trainY, validation_data=(testX, testY), epochs=EPOCHS, batch_size=32)"
   ]
  },
  {
   "cell_type": "code",
   "execution_count": 17,
   "metadata": {},
   "outputs": [
    {
     "name": "stdout",
     "output_type": "stream",
     "text": [
      "[INFO] evaluating network...\n",
      "             precision    recall  f1-score   support\n",
      "\n",
      "   document       0.98      1.00      0.99        84\n",
      "      photo       1.00      0.98      0.99        84\n",
      "\n",
      "avg / total       0.99      0.99      0.99       168\n",
      "\n",
      "0.9880952380952381\n"
     ]
    }
   ],
   "source": [
    "# evaluate the network\n",
    "print(\"[INFO] evaluating network...\")\n",
    "predictions = model.predict(testX, batch_size=32)\n",
    "print(classification_report(testY.argmax(axis=1), predictions.argmax(axis=1), target_names=[\"document\",\"photo\"]))\n",
    "print(accuracy_score(testY.argmax(axis=1), predictions.argmax(axis=1)))"
   ]
  },
  {
   "cell_type": "markdown",
   "metadata": {},
   "source": [
    "## These are all metrics used to understand how \"accurate\" your fitted model is"
   ]
  },
  {
   "cell_type": "markdown",
   "metadata": {},
   "source": [
    "* __Precision__: How many true positive elements were selected (e.g. correctly identified form) out of all relevant elements (e.g. all forms)\n",
    "\n",
    "* __Recall__: How many true positive elements were selected (e.g. correctly identified form) out of all selected elements (e.g. any forms or pictures that were identified as forms)\n",
    "\n",
    "* __F1-score__: This is the harmonic mean of precision and recall.\n",
    "\n",
    "* __Support__: How many elements of each category (e.g. 214 forms and 233 pictures)\n",
    "\n",
    "Individually, neither precision or recall can be meaningful, so the f1-score is often used to achieve a more significant metric of how good your model is.\n",
    "\n",
    "In our models, we also use what we call \"accuracy\" which is the total of correctly identified items (documents or photos) over the total number of elements (also the sum of the support).\n",
    "\n",
    "![alt text](https://raw.githubusercontent.com/drewFrieden/PracticeWeekProject2018Q3/master/Notebooks/Presentation/Images/PrecisionAndRecall.png \"precision and recall\")"
   ]
  },
  {
   "cell_type": "code",
   "execution_count": 18,
   "metadata": {},
   "outputs": [
    {
     "data": {
      "image/png": "[encoded data removed]",
      "text/plain": [
       "<Figure size 432x288 with 1 Axes>"
      ]
     },
     "metadata": {},
     "output_type": "display_data"
    }
   ],
   "source": [
    "# plot the training loss and accuracy\n",
    "N = np.arange(0, EPOCHS)\n",
    "plt.style.use(\"ggplot\")\n",
    "plt.figure()\n",
    "plt.plot(N, H.history[\"loss\"], label=\"train_loss\")\n",
    "plt.plot(N, H.history[\"val_loss\"], label=\"val_loss\")\n",
    "plt.plot(N, H.history[\"acc\"], label=\"train_acc\")\n",
    "plt.plot(N, H.history[\"val_acc\"], label=\"val_acc\")\n",
    "plt.title(\"Training Loss and Accuracy (Simple NN)\")\n",
    "plt.xlabel(\"Epoch #\")\n",
    "plt.ylabel(\"Loss/Accuracy\")\n",
    "plt.legend()\n",
    "plt.savefig(PLOT)"
   ]
  },
  {
   "cell_type": "markdown",
   "metadata": {},
   "source": [
    "## Loss is a measure of how bad the model's prediction was"
   ]
  },
  {
   "cell_type": "markdown",
   "metadata": {},
   "source": [
    "* High loss = bad prediction \n",
    "* Zero loss = perfect prediction\n",
    "\n",
    "With supervised learning, you want to find a model that minimizes loss by adjusting weights, biases, and learning rate and training the model until the loss is reduced. \n",
    "\n",
    "Loss is calculated with a function and the function used can vary based on the training data and techniques being used. \n",
    "\n",
    "Loss can be used to help identify when your model is being over-fitted. \n",
    "You want to train the data until the loss decreases, but you want to stop training the model before the loss starts increasing again (which can indicate overfitting has began). "
   ]
  },
  {
   "cell_type": "code",
   "execution_count": 19,
   "metadata": {},
   "outputs": [
    {
     "name": "stdout",
     "output_type": "stream",
     "text": [
      "[INFO] serializing network and label binarizer...\n"
     ]
    }
   ],
   "source": [
    "# save the model and label binarizer to disk\n",
    "print(\"[INFO] serializing network and label binarizer...\")\n",
    "model.save(MODEL)\n",
    "f = open(MODEL, \"wb\")\n",
    "f.write(pickle.dumps(lb))\n",
    "f.close()"
   ]
  },
  {
   "cell_type": "markdown",
   "metadata": {},
   "source": [
    "# Live Exercise!\n",
    "\n",
    "We are going to feed 3 new images into the model and have it predict whether the images are of documents or photos."
   ]
  },
  {
   "cell_type": "code",
   "execution_count": 20,
   "metadata": {},
   "outputs": [],
   "source": [
    "def print_predicted_label(prediction):\n",
    "    \n",
    "    documentPrediction = prediction[0][0]\n",
    "    documentPrediction = documentPrediction * 100\n",
    "    documentPrediction = '{0:.2f}'.format(documentPrediction)\n",
    "    \n",
    "    photoPrediction = prediction[0][1]\n",
    "    photoPrediction = photoPrediction * 100\n",
    "    photoPrediction = '{0:.2f}'.format(photoPrediction)\n",
    "    \n",
    "    if documentPrediction > photoPrediction:\n",
    "        print(str.format('The image is predicted to be a document with {}% confidence.', documentPrediction))\n",
    "    elif photoPrediction > documentPrediction:\n",
    "        print(str.format('The image is predicted to be a photo with {}% confidence.', photoPrediction))\n",
    "    else:\n",
    "        print('The image could not be predicted to be a document or photo.')"
   ]
  },
  {
   "cell_type": "code",
   "execution_count": 21,
   "metadata": {},
   "outputs": [],
   "source": [
    "def prep_new_image_for_prediction(newImage):\n",
    "    newImage = cv2.imread(newImage)\n",
    "    newImageData = []\n",
    "    newImage = cv2.resize(newImage, (32, 32)).flatten()\n",
    "    newImageData.append(newImage)\n",
    "    newImageData = np.array(newImageData, dtype=\"float\") / 255.0\n",
    "#     print(newImageData.shape)\n",
    "    \n",
    "    return newImageData"
   ]
  },
  {
   "cell_type": "code",
   "execution_count": 22,
   "metadata": {},
   "outputs": [],
   "source": [
    "def predict_new_image(newImage):\n",
    "    newImageData = prep_new_image_for_prediction(newImage)\n",
    "\n",
    "    prediction = model.predict(newImageData, batch_size=1)\n",
    "\n",
    "    print_predicted_label(prediction)"
   ]
  },
  {
   "cell_type": "markdown",
   "metadata": {},
   "source": [
    "### New Image 1: Photo of a house"
   ]
  },
  {
   "cell_type": "code",
   "execution_count": null,
   "metadata": {
    "scrolled": true
   },
   "outputs": [],
   "source": [
    "newImage1 = '/Users/cpoole/Downloads/'\n",
    "displayNewImage1 = cv2.imread(newImage1)\n",
    "# Convert the image to RGB if needed\n",
    "displayNewImage1 = cv2.cvtColor(displayNewImage1, cv2.COLOR_BGR2RGB)\n",
    "plt.style.use('seaborn-white')\n",
    "plt.imshow(displayNewImage1)"
   ]
  },
  {
   "cell_type": "code",
   "execution_count": null,
   "metadata": {},
   "outputs": [],
   "source": [
    "predict_new_image(newImage1)"
   ]
  },
  {
   "cell_type": "markdown",
   "metadata": {},
   "source": [
    "### New Image 2: Photo of a Massachusetts lease"
   ]
  },
  {
   "cell_type": "code",
   "execution_count": null,
   "metadata": {},
   "outputs": [],
   "source": [
    "newImage2 = '/Users/cpoole/Downloads/'\n",
    "displayNewImage2 = cv2.imread(newImage2)\n",
    "# Convert the image to RGB if needed\n",
    "displayNewImage2 = cv2.cvtColor(displayNewImage2, cv2.COLOR_BGR2RGB)\n",
    "plt.style.use('seaborn-white')\n",
    "plt.imshow(displayNewImage2)"
   ]
  },
  {
   "cell_type": "code",
   "execution_count": null,
   "metadata": {},
   "outputs": [],
   "source": [
    "predict_new_image(newImage2)"
   ]
  },
  {
   "cell_type": "markdown",
   "metadata": {},
   "source": [
    "### New Image 3: Audience Participation! What kind of image should we upload?"
   ]
  },
  {
   "cell_type": "code",
   "execution_count": null,
   "metadata": {},
   "outputs": [],
   "source": [
    "testImage = '/Users/cpoole/Downloads/'\n",
    "fileName = testImage.split('/')[-1]\n",
    "data = {'image': (fileName, open(testImage, 'rb'))}\n",
    "# url = \"http://localhost:5000/predict\"\n",
    "url = \"http://192.168.37.220:5000/predict\"\n",
    "response = requests.post(url, files=data)\n",
    "print(response)\n",
    "print(response.text)"
   ]
  },
  {
   "cell_type": "markdown",
   "metadata": {},
   "source": [
    "# Your Turn!\n",
    "If you'd like to upload an image and see whether it's predicted to be a document or a photo, please use the following curl command as an example how:\n",
    "\n",
    "`curl -X POST -F image=@TestImage.jpg \"http://192.168.37.220:5000/predict\"`\n",
    "\n",
    "__NOTE:__ This service will only be running the day of the presentation!"
   ]
  },
  {
   "cell_type": "markdown",
   "metadata": {},
   "source": [
    "# Resources\n",
    "\n",
    "* Our resources:\n",
    "    * [Confluence](https://buildium.atlassian.net/wiki/spaces/EN/pages/642187347/Ytterbium)\n",
    "    * [GitHub Repo](https://github.com/drewFrieden/PracticeWeekProject2018Q3)\n",
    "    \n",
    "* Resources we used:\n",
    "    * [Pyimagesearch](https://www.pyimagesearch.com/2018/09/10/keras-tutorial-how-to-get-started-with-keras-deep-learning-and-python/)\n",
    "    * [Keras](https://keras.io/)\n",
    "    * [Kaggle](https://www.kaggle.com/learn/deep-learning)\n",
    "    * [TensorFlow](https://www.tensorflow.org/tutorials/keras/basic_classification)"
   ]
  },
  {
   "cell_type": "markdown",
   "metadata": {},
   "source": [
    "# Next Steps"
   ]
  },
  {
   "cell_type": "markdown",
   "metadata": {},
   "source": [
    "* Please add your ideas for using machine learning at Buildium to our [Confluence](https://buildium.atlassian.net/wiki/spaces/EN/pages/642187347/Ytterbium) page!\n",
    "* We’d like to turn this presentation into a blog post and possibly publish our Jupyter notebook on Kaggle.\n",
    "* We’d like to continue using machine learning at Buildium on a regular basis!"
   ]
  },
  {
   "cell_type": "markdown",
   "metadata": {},
   "source": [
    "# The End. Any Questions?"
   ]
  }
 ],
 "metadata": {
  "kernelspec": {
   "display_name": "Python 3",
   "language": "python",
   "name": "python3"
  },
  "language_info": {
   "codemirror_mode": {
    "name": "ipython",
    "version": 3
   },
   "file_extension": ".py",
   "mimetype": "text/x-python",
   "name": "python",
   "nbconvert_exporter": "python",
   "pygments_lexer": "ipython3",
   "version": "3.6.5"
  }
 },
 "nbformat": 4,
 "nbformat_minor": 2
}
