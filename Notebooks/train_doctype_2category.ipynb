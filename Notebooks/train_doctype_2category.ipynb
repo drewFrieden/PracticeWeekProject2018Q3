{
 "cells": [
  {
   "cell_type": "markdown",
   "metadata": {},
   "source": [
    "# Document/Photo Classifier"
   ]
  },
  {
   "cell_type": "markdown",
   "metadata": {},
   "source": [
    "## Description"
   ]
  },
  {
   "cell_type": "markdown",
   "metadata": {},
   "source": [
    "TODO"
   ]
  },
  {
   "cell_type": "markdown",
   "metadata": {},
   "source": [
    "## Import python packages"
   ]
  },
  {
   "cell_type": "code",
   "execution_count": 167,
   "metadata": {},
   "outputs": [],
   "source": [
    "# set the matplotlib backend so figures can be saved in the background\n",
    "import matplotlib\n",
    "%matplotlib inline\n",
    " \n",
    "# import the necessary packages\n",
    "from sklearn.preprocessing import LabelBinarizer\n",
    "from sklearn.model_selection import train_test_split\n",
    "from sklearn.metrics import classification_report\n",
    "from sklearn.metrics import accuracy_score\n",
    "from keras.models import Sequential\n",
    "from keras.layers.core import Dense\n",
    "from keras.optimizers import SGD\n",
    "from keras.utils import to_categorical\n",
    "from imutils import paths\n",
    "import matplotlib.pyplot as plt\n",
    "import numpy as np\n",
    "import argparse\n",
    "import random\n",
    "import pickle\n",
    "import cv2\n",
    "import os"
   ]
  },
  {
   "cell_type": "markdown",
   "metadata": {},
   "source": [
    "## Configure your paths here"
   ]
  },
  {
   "cell_type": "code",
   "execution_count": 144,
   "metadata": {},
   "outputs": [],
   "source": [
    "PROJECT_DIRECTORY = '/Users/cpoole/Git/PracticeWeekProject2018Q3/CNN_Simple_Model_2_Categories'\n",
    "IMAGE_DIRECTORY = str.format('{}/doctypes', PROJECT_DIRECTORY)\n",
    "PLOT = str.format('{}/Output.png', PROJECT_DIRECTORY)\n",
    "MODEL = str.format('/{}/Model.h5', PROJECT_DIRECTORY)"
   ]
  },
  {
   "cell_type": "code",
   "execution_count": 145,
   "metadata": {},
   "outputs": [
    {
     "name": "stdout",
     "output_type": "stream",
     "text": [
      "[INFO] loading images...\n"
     ]
    }
   ],
   "source": [
    "# initialize the data and labels\n",
    "print(\"[INFO] loading images...\")\n",
    "data = []\n",
    "labels = []"
   ]
  },
  {
   "cell_type": "code",
   "execution_count": 146,
   "metadata": {},
   "outputs": [],
   "source": [
    "# grab the image paths and randomly shuffle them\n",
    "imagePaths = sorted(list(paths.list_images(IMAGE_DIRECTORY)))\n",
    "random.seed(42)\n",
    "random.shuffle(imagePaths)"
   ]
  },
  {
   "cell_type": "code",
   "execution_count": 147,
   "metadata": {},
   "outputs": [],
   "source": [
    "# loop over the input images\n",
    "for imagePath in imagePaths:\n",
    "    # load the image, resize the image to be 32x32 pixels (ignoring\n",
    "    # aspect ratio), flatten the image into 32x32x3=3072 pixel image\n",
    "    # into a list, and store the image in the data list\n",
    "    image = cv2.imread(imagePath)\n",
    "    image = cv2.resize(image, (32, 32)).flatten()\n",
    "    data.append(image)\n",
    " \n",
    "    # extract the class label from the image path and update the\n",
    "    # labels list\n",
    "    label = imagePath.split(os.path.sep)[-2]\n",
    "    labels.append(label)"
   ]
  },
  {
   "cell_type": "code",
   "execution_count": 148,
   "metadata": {},
   "outputs": [],
   "source": [
    "# scale the raw pixel intensities to the range [0, 1]\n",
    "data = np.array(data, dtype=\"float\") / 255.0\n",
    "labels = np.array(labels)"
   ]
  },
  {
   "cell_type": "code",
   "execution_count": 149,
   "metadata": {},
   "outputs": [
    {
     "data": {
      "text/plain": [
       "(392, 3072)"
      ]
     },
     "execution_count": 149,
     "metadata": {},
     "output_type": "execute_result"
    }
   ],
   "source": [
    "data.shape"
   ]
  },
  {
   "cell_type": "code",
   "execution_count": 150,
   "metadata": {},
   "outputs": [],
   "source": [
    "# partition the data into training and testing splits using 70% of\n",
    "# the data for training and the remaining 30% for testing\n",
    "(trainX, testX, trainY, testY) = train_test_split(data, labels, test_size=0.30, random_state=42)"
   ]
  },
  {
   "cell_type": "code",
   "execution_count": 151,
   "metadata": {},
   "outputs": [
    {
     "name": "stdout",
     "output_type": "stream",
     "text": [
      "['1' '1' '1' '0' '1' '1' '0' '0' '0' '1' '1' '0' '1' '0' '1' '1' '1' '1'\n",
      " '1' '1' '0' '1' '0' '1' '0' '1' '0' '1' '0' '1' '1' '1' '0' '1' '1' '0'\n",
      " '1' '0' '0' '1' '1' '1' '1' '1' '0' '0' '1' '0' '0' '1' '1' '1' '1' '1'\n",
      " '0' '1' '0' '1' '1' '1' '1' '0' '0' '1' '1' '1' '0' '1' '0' '1' '0' '1'\n",
      " '1' '1' '1' '1' '1' '1' '0' '0' '1' '1' '1' '1' '1' '1' '1' '0' '0' '0'\n",
      " '1' '1' '0' '1' '1' '1' '1' '0' '1' '1' '1' '1' '0' '1' '1' '1' '1' '1'\n",
      " '1' '0' '1' '0' '1' '0' '0' '1' '1' '1' '1' '1' '1' '1' '0' '0' '1' '1'\n",
      " '1' '1' '1' '1' '0' '1' '1' '0' '0' '0' '1' '1' '1' '1' '1' '0' '0' '1'\n",
      " '1' '1' '1' '1' '1' '1' '1' '1' '1' '1' '1' '1' '0' '1' '1' '1' '1' '1'\n",
      " '1' '1' '1' '0' '1' '1' '1' '0' '1' '0' '0' '1' '0' '1' '1' '0' '1' '1'\n",
      " '1' '0' '1' '0' '0' '0' '0' '1' '1' '1' '0' '0' '1' '0' '1' '0' '0' '1'\n",
      " '0' '1' '0' '0' '1' '1' '1' '0' '1' '1' '1' '1' '1' '1' '1' '1' '1' '1'\n",
      " '1' '1' '1' '1' '0' '1' '1' '1' '1' '1' '0' '1' '0' '0' '1' '1' '0' '1'\n",
      " '1' '1' '1' '1' '1' '0' '1' '1' '1' '0' '1' '1' '1' '1' '1' '1' '0' '1'\n",
      " '0' '1' '1' '1' '0' '1' '1' '1' '0' '0' '1' '1' '1' '0' '1' '0' '1' '1'\n",
      " '1' '0' '1' '1']\n",
      "[[0. 1.]\n",
      " [0. 1.]\n",
      " [0. 1.]\n",
      " [1. 0.]\n",
      " [0. 1.]\n",
      " [0. 1.]\n",
      " [1. 0.]\n",
      " [1. 0.]\n",
      " [1. 0.]\n",
      " [0. 1.]\n",
      " [0. 1.]\n",
      " [1. 0.]\n",
      " [0. 1.]\n",
      " [1. 0.]\n",
      " [0. 1.]\n",
      " [0. 1.]\n",
      " [0. 1.]\n",
      " [0. 1.]\n",
      " [0. 1.]\n",
      " [0. 1.]\n",
      " [1. 0.]\n",
      " [0. 1.]\n",
      " [1. 0.]\n",
      " [0. 1.]\n",
      " [1. 0.]\n",
      " [0. 1.]\n",
      " [1. 0.]\n",
      " [0. 1.]\n",
      " [1. 0.]\n",
      " [0. 1.]\n",
      " [0. 1.]\n",
      " [0. 1.]\n",
      " [1. 0.]\n",
      " [0. 1.]\n",
      " [0. 1.]\n",
      " [1. 0.]\n",
      " [0. 1.]\n",
      " [1. 0.]\n",
      " [1. 0.]\n",
      " [0. 1.]\n",
      " [0. 1.]\n",
      " [0. 1.]\n",
      " [0. 1.]\n",
      " [0. 1.]\n",
      " [1. 0.]\n",
      " [1. 0.]\n",
      " [0. 1.]\n",
      " [1. 0.]\n",
      " [1. 0.]\n",
      " [0. 1.]\n",
      " [0. 1.]\n",
      " [0. 1.]\n",
      " [0. 1.]\n",
      " [0. 1.]\n",
      " [1. 0.]\n",
      " [0. 1.]\n",
      " [1. 0.]\n",
      " [0. 1.]\n",
      " [0. 1.]\n",
      " [0. 1.]\n",
      " [0. 1.]\n",
      " [1. 0.]\n",
      " [1. 0.]\n",
      " [0. 1.]\n",
      " [0. 1.]\n",
      " [0. 1.]\n",
      " [1. 0.]\n",
      " [0. 1.]\n",
      " [1. 0.]\n",
      " [0. 1.]\n",
      " [1. 0.]\n",
      " [0. 1.]\n",
      " [0. 1.]\n",
      " [0. 1.]\n",
      " [0. 1.]\n",
      " [0. 1.]\n",
      " [0. 1.]\n",
      " [0. 1.]\n",
      " [1. 0.]\n",
      " [1. 0.]\n",
      " [0. 1.]\n",
      " [0. 1.]\n",
      " [0. 1.]\n",
      " [0. 1.]\n",
      " [0. 1.]\n",
      " [0. 1.]\n",
      " [0. 1.]\n",
      " [1. 0.]\n",
      " [1. 0.]\n",
      " [1. 0.]\n",
      " [0. 1.]\n",
      " [0. 1.]\n",
      " [1. 0.]\n",
      " [0. 1.]\n",
      " [0. 1.]\n",
      " [0. 1.]\n",
      " [0. 1.]\n",
      " [1. 0.]\n",
      " [0. 1.]\n",
      " [0. 1.]\n",
      " [0. 1.]\n",
      " [0. 1.]\n",
      " [1. 0.]\n",
      " [0. 1.]\n",
      " [0. 1.]\n",
      " [0. 1.]\n",
      " [0. 1.]\n",
      " [0. 1.]\n",
      " [0. 1.]\n",
      " [1. 0.]\n",
      " [0. 1.]\n",
      " [1. 0.]\n",
      " [0. 1.]\n",
      " [1. 0.]\n",
      " [1. 0.]\n",
      " [0. 1.]\n",
      " [0. 1.]\n",
      " [0. 1.]\n",
      " [0. 1.]\n",
      " [0. 1.]\n",
      " [0. 1.]\n",
      " [0. 1.]\n",
      " [1. 0.]\n",
      " [1. 0.]\n",
      " [0. 1.]\n",
      " [0. 1.]\n",
      " [0. 1.]\n",
      " [0. 1.]\n",
      " [0. 1.]\n",
      " [0. 1.]\n",
      " [1. 0.]\n",
      " [0. 1.]\n",
      " [0. 1.]\n",
      " [1. 0.]\n",
      " [1. 0.]\n",
      " [1. 0.]\n",
      " [0. 1.]\n",
      " [0. 1.]\n",
      " [0. 1.]\n",
      " [0. 1.]\n",
      " [0. 1.]\n",
      " [1. 0.]\n",
      " [1. 0.]\n",
      " [0. 1.]\n",
      " [0. 1.]\n",
      " [0. 1.]\n",
      " [0. 1.]\n",
      " [0. 1.]\n",
      " [0. 1.]\n",
      " [0. 1.]\n",
      " [0. 1.]\n",
      " [0. 1.]\n",
      " [0. 1.]\n",
      " [0. 1.]\n",
      " [0. 1.]\n",
      " [0. 1.]\n",
      " [1. 0.]\n",
      " [0. 1.]\n",
      " [0. 1.]\n",
      " [0. 1.]\n",
      " [0. 1.]\n",
      " [0. 1.]\n",
      " [0. 1.]\n",
      " [0. 1.]\n",
      " [0. 1.]\n",
      " [1. 0.]\n",
      " [0. 1.]\n",
      " [0. 1.]\n",
      " [0. 1.]\n",
      " [1. 0.]\n",
      " [0. 1.]\n",
      " [1. 0.]\n",
      " [1. 0.]\n",
      " [0. 1.]\n",
      " [1. 0.]\n",
      " [0. 1.]\n",
      " [0. 1.]\n",
      " [1. 0.]\n",
      " [0. 1.]\n",
      " [0. 1.]\n",
      " [0. 1.]\n",
      " [1. 0.]\n",
      " [0. 1.]\n",
      " [1. 0.]\n",
      " [1. 0.]\n",
      " [1. 0.]\n",
      " [1. 0.]\n",
      " [0. 1.]\n",
      " [0. 1.]\n",
      " [0. 1.]\n",
      " [1. 0.]\n",
      " [1. 0.]\n",
      " [0. 1.]\n",
      " [1. 0.]\n",
      " [0. 1.]\n",
      " [1. 0.]\n",
      " [1. 0.]\n",
      " [0. 1.]\n",
      " [1. 0.]\n",
      " [0. 1.]\n",
      " [1. 0.]\n",
      " [1. 0.]\n",
      " [0. 1.]\n",
      " [0. 1.]\n",
      " [0. 1.]\n",
      " [1. 0.]\n",
      " [0. 1.]\n",
      " [0. 1.]\n",
      " [0. 1.]\n",
      " [0. 1.]\n",
      " [0. 1.]\n",
      " [0. 1.]\n",
      " [0. 1.]\n",
      " [0. 1.]\n",
      " [0. 1.]\n",
      " [0. 1.]\n",
      " [0. 1.]\n",
      " [0. 1.]\n",
      " [0. 1.]\n",
      " [0. 1.]\n",
      " [1. 0.]\n",
      " [0. 1.]\n",
      " [0. 1.]\n",
      " [0. 1.]\n",
      " [0. 1.]\n",
      " [0. 1.]\n",
      " [1. 0.]\n",
      " [0. 1.]\n",
      " [1. 0.]\n",
      " [1. 0.]\n",
      " [0. 1.]\n",
      " [0. 1.]\n",
      " [1. 0.]\n",
      " [0. 1.]\n",
      " [0. 1.]\n",
      " [0. 1.]\n",
      " [0. 1.]\n",
      " [0. 1.]\n",
      " [0. 1.]\n",
      " [1. 0.]\n",
      " [0. 1.]\n",
      " [0. 1.]\n",
      " [0. 1.]\n",
      " [1. 0.]\n",
      " [0. 1.]\n",
      " [0. 1.]\n",
      " [0. 1.]\n",
      " [0. 1.]\n",
      " [0. 1.]\n",
      " [0. 1.]\n",
      " [1. 0.]\n",
      " [0. 1.]\n",
      " [1. 0.]\n",
      " [0. 1.]\n",
      " [0. 1.]\n",
      " [0. 1.]\n",
      " [1. 0.]\n",
      " [0. 1.]\n",
      " [0. 1.]\n",
      " [0. 1.]\n",
      " [1. 0.]\n",
      " [1. 0.]\n",
      " [0. 1.]\n",
      " [0. 1.]\n",
      " [0. 1.]\n",
      " [1. 0.]\n",
      " [0. 1.]\n",
      " [1. 0.]\n",
      " [0. 1.]\n",
      " [0. 1.]\n",
      " [0. 1.]\n",
      " [1. 0.]\n",
      " [0. 1.]\n",
      " [0. 1.]]\n"
     ]
    }
   ],
   "source": [
    "# convert the labels from integers to vectors (for 2-class, binary\n",
    "# classification you should use Keras' to_categorical function\n",
    "# instead as the scikit-learn's LabelBinarizer will not return a\n",
    "# vector)\n",
    "lb = LabelBinarizer()\n",
    "#trainY = lb.fit_transform(trainY)\n",
    "#testY = lb.transform(testY)\n",
    "print(trainY)\n",
    "trainY = to_categorical(trainY)\n",
    "print(trainY)\n",
    "testY = to_categorical(testY)"
   ]
  },
  {
   "cell_type": "code",
   "execution_count": 152,
   "metadata": {},
   "outputs": [],
   "source": [
    "# define the 3072-1024-512-3 architecture using Keras\n",
    "model = Sequential()\n",
    "model.add(Dense(1024, input_shape=(3072,), activation=\"sigmoid\"))\n",
    "model.add(Dense(512, activation=\"sigmoid\"))\n",
    "model.add(Dense(2, activation=\"softmax\"))"
   ]
  },
  {
   "cell_type": "code",
   "execution_count": 153,
   "metadata": {},
   "outputs": [],
   "source": [
    "# initialize our initial learning rate and # of epochs to train for\n",
    "INIT_LR = 0.01\n",
    "EPOCHS =75"
   ]
  },
  {
   "cell_type": "code",
   "execution_count": 154,
   "metadata": {},
   "outputs": [
    {
     "name": "stdout",
     "output_type": "stream",
     "text": [
      "[INFO] training network...\n"
     ]
    }
   ],
   "source": [
    "# compilg the model using SGD as our optimizer and categorical\n",
    "# cross-entropy loss (you'll want to use binary_crossentropy\n",
    "# for 2-class classification)\n",
    "print(\"[INFO] training network...\")\n",
    "opt = SGD(lr=INIT_LR)\n",
    "model.compile(loss=\"categorical_crossentropy\", optimizer=opt,\n",
    "\tmetrics=[\"accuracy\"])"
   ]
  },
  {
   "cell_type": "code",
   "execution_count": 155,
   "metadata": {},
   "outputs": [
    {
     "name": "stdout",
     "output_type": "stream",
     "text": [
      "Train on 274 samples, validate on 118 samples\n",
      "Epoch 1/75\n",
      "274/274 [==============================] - 1s 3ms/step - loss: 0.6381 - acc: 0.6277 - val_loss: 0.6019 - val_acc: 0.6864\n",
      "Epoch 2/75\n",
      "274/274 [==============================] - 0s 760us/step - loss: 0.5953 - acc: 0.7007 - val_loss: 0.5782 - val_acc: 0.6864\n",
      "Epoch 3/75\n",
      "274/274 [==============================] - 0s 762us/step - loss: 0.5618 - acc: 0.7007 - val_loss: 0.5486 - val_acc: 0.6864\n",
      "Epoch 4/75\n",
      "274/274 [==============================] - 0s 754us/step - loss: 0.5324 - acc: 0.7007 - val_loss: 0.5269 - val_acc: 0.6864\n",
      "Epoch 5/75\n",
      "274/274 [==============================] - 0s 778us/step - loss: 0.5143 - acc: 0.7299 - val_loss: 0.5138 - val_acc: 0.6864\n",
      "Epoch 6/75\n",
      "274/274 [==============================] - 0s 770us/step - loss: 0.4854 - acc: 0.7518 - val_loss: 0.4824 - val_acc: 0.6864\n",
      "Epoch 7/75\n",
      "274/274 [==============================] - 0s 759us/step - loss: 0.4767 - acc: 0.7336 - val_loss: 0.4724 - val_acc: 0.6864\n",
      "Epoch 8/75\n",
      "274/274 [==============================] - 0s 757us/step - loss: 0.4521 - acc: 0.7226 - val_loss: 0.4448 - val_acc: 0.6864\n",
      "Epoch 9/75\n",
      "274/274 [==============================] - 0s 758us/step - loss: 0.4365 - acc: 0.7555 - val_loss: 0.4287 - val_acc: 0.9153\n",
      "Epoch 10/75\n",
      "274/274 [==============================] - 0s 759us/step - loss: 0.4178 - acc: 0.8431 - val_loss: 0.4122 - val_acc: 0.7034\n",
      "Epoch 11/75\n",
      "274/274 [==============================] - 0s 766us/step - loss: 0.4002 - acc: 0.7956 - val_loss: 0.4017 - val_acc: 0.9915\n",
      "Epoch 12/75\n",
      "274/274 [==============================] - 0s 766us/step - loss: 0.3935 - acc: 0.9124 - val_loss: 0.3842 - val_acc: 0.7203\n",
      "Epoch 13/75\n",
      "274/274 [==============================] - 0s 769us/step - loss: 0.3709 - acc: 0.8796 - val_loss: 0.3748 - val_acc: 0.7034\n",
      "Epoch 14/75\n",
      "274/274 [==============================] - 0s 771us/step - loss: 0.3558 - acc: 0.9051 - val_loss: 0.3555 - val_acc: 0.9576\n",
      "Epoch 15/75\n",
      "274/274 [==============================] - 0s 762us/step - loss: 0.3472 - acc: 0.9234 - val_loss: 0.3540 - val_acc: 1.0000\n",
      "Epoch 16/75\n",
      "274/274 [==============================] - 0s 776us/step - loss: 0.3322 - acc: 0.9891 - val_loss: 0.3339 - val_acc: 0.9576\n",
      "Epoch 17/75\n",
      "274/274 [==============================] - 0s 781us/step - loss: 0.3181 - acc: 0.9562 - val_loss: 0.3206 - val_acc: 0.9915\n",
      "Epoch 18/75\n",
      "274/274 [==============================] - 0s 767us/step - loss: 0.3096 - acc: 0.9927 - val_loss: 0.3096 - val_acc: 0.9915\n",
      "Epoch 19/75\n",
      "274/274 [==============================] - 0s 773us/step - loss: 0.3015 - acc: 0.9927 - val_loss: 0.3025 - val_acc: 0.9915\n",
      "Epoch 20/75\n",
      "274/274 [==============================] - 0s 775us/step - loss: 0.2901 - acc: 0.9891 - val_loss: 0.2984 - val_acc: 0.9661\n",
      "Epoch 21/75\n",
      "274/274 [==============================] - 0s 778us/step - loss: 0.2818 - acc: 0.9927 - val_loss: 0.2815 - val_acc: 0.9915\n",
      "Epoch 22/75\n",
      "274/274 [==============================] - 0s 790us/step - loss: 0.2714 - acc: 0.9927 - val_loss: 0.2739 - val_acc: 0.9915\n",
      "Epoch 23/75\n",
      "274/274 [==============================] - 0s 771us/step - loss: 0.2658 - acc: 0.9891 - val_loss: 0.2648 - val_acc: 0.9915\n",
      "Epoch 24/75\n",
      "274/274 [==============================] - 0s 776us/step - loss: 0.2572 - acc: 0.9927 - val_loss: 0.2597 - val_acc: 0.9915\n",
      "Epoch 25/75\n",
      "274/274 [==============================] - 0s 766us/step - loss: 0.2467 - acc: 0.9964 - val_loss: 0.2502 - val_acc: 1.0000\n",
      "Epoch 26/75\n",
      "274/274 [==============================] - 0s 783us/step - loss: 0.2393 - acc: 0.9964 - val_loss: 0.2417 - val_acc: 0.9915\n",
      "Epoch 27/75\n",
      "274/274 [==============================] - 0s 795us/step - loss: 0.2370 - acc: 0.9964 - val_loss: 0.2336 - val_acc: 1.0000\n",
      "Epoch 28/75\n",
      "274/274 [==============================] - 0s 766us/step - loss: 0.2279 - acc: 0.9964 - val_loss: 0.2485 - val_acc: 0.9831\n",
      "Epoch 29/75\n",
      "274/274 [==============================] - 0s 786us/step - loss: 0.2258 - acc: 0.9964 - val_loss: 0.2220 - val_acc: 0.9915\n",
      "Epoch 30/75\n",
      "274/274 [==============================] - 0s 772us/step - loss: 0.2146 - acc: 0.9927 - val_loss: 0.2186 - val_acc: 0.9915\n",
      "Epoch 31/75\n",
      "274/274 [==============================] - 0s 808us/step - loss: 0.2064 - acc: 0.9964 - val_loss: 0.2081 - val_acc: 1.0000\n",
      "Epoch 32/75\n",
      "274/274 [==============================] - 0s 782us/step - loss: 0.2008 - acc: 0.9964 - val_loss: 0.2074 - val_acc: 0.9915\n",
      "Epoch 33/75\n",
      "274/274 [==============================] - 0s 778us/step - loss: 0.1970 - acc: 0.9891 - val_loss: 0.1970 - val_acc: 1.0000\n",
      "Epoch 34/75\n",
      "274/274 [==============================] - 0s 779us/step - loss: 0.1915 - acc: 0.9927 - val_loss: 0.1999 - val_acc: 0.9915\n",
      "Epoch 35/75\n",
      "274/274 [==============================] - 0s 805us/step - loss: 0.1875 - acc: 0.9927 - val_loss: 0.1895 - val_acc: 1.0000\n",
      "Epoch 36/75\n",
      "274/274 [==============================] - 0s 782us/step - loss: 0.1834 - acc: 0.9927 - val_loss: 0.1831 - val_acc: 1.0000\n",
      "Epoch 37/75\n",
      "274/274 [==============================] - 0s 762us/step - loss: 0.1767 - acc: 0.9927 - val_loss: 0.1769 - val_acc: 1.0000\n",
      "Epoch 38/75\n",
      "274/274 [==============================] - 0s 776us/step - loss: 0.1718 - acc: 0.9927 - val_loss: 0.1727 - val_acc: 1.0000\n",
      "Epoch 39/75\n",
      "274/274 [==============================] - 0s 778us/step - loss: 0.1700 - acc: 0.9891 - val_loss: 0.1687 - val_acc: 1.0000\n",
      "Epoch 40/75\n",
      "274/274 [==============================] - 0s 779us/step - loss: 0.1629 - acc: 0.9927 - val_loss: 0.1638 - val_acc: 1.0000\n",
      "Epoch 41/75\n",
      "274/274 [==============================] - 0s 772us/step - loss: 0.1600 - acc: 0.9927 - val_loss: 0.1620 - val_acc: 1.0000\n",
      "Epoch 42/75\n",
      "274/274 [==============================] - 0s 786us/step - loss: 0.1573 - acc: 0.9891 - val_loss: 0.1566 - val_acc: 1.0000\n",
      "Epoch 43/75\n",
      "274/274 [==============================] - 0s 772us/step - loss: 0.1523 - acc: 0.9927 - val_loss: 0.1522 - val_acc: 1.0000\n",
      "Epoch 44/75\n",
      "274/274 [==============================] - 0s 782us/step - loss: 0.1478 - acc: 0.9927 - val_loss: 0.1495 - val_acc: 1.0000\n",
      "Epoch 45/75\n",
      "274/274 [==============================] - 0s 777us/step - loss: 0.1447 - acc: 0.9927 - val_loss: 0.1452 - val_acc: 1.0000\n",
      "Epoch 46/75\n",
      "274/274 [==============================] - 0s 778us/step - loss: 0.1424 - acc: 0.9891 - val_loss: 0.1421 - val_acc: 1.0000\n",
      "Epoch 47/75\n",
      "274/274 [==============================] - 0s 768us/step - loss: 0.1406 - acc: 0.9927 - val_loss: 0.1427 - val_acc: 1.0000\n",
      "Epoch 48/75\n",
      "274/274 [==============================] - 0s 790us/step - loss: 0.1387 - acc: 0.9891 - val_loss: 0.1359 - val_acc: 1.0000\n",
      "Epoch 49/75\n",
      "274/274 [==============================] - 0s 788us/step - loss: 0.1322 - acc: 0.9927 - val_loss: 0.1327 - val_acc: 1.0000\n",
      "Epoch 50/75\n",
      "274/274 [==============================] - 0s 786us/step - loss: 0.1294 - acc: 0.9927 - val_loss: 0.1314 - val_acc: 1.0000\n",
      "Epoch 51/75\n",
      "274/274 [==============================] - 0s 802us/step - loss: 0.1269 - acc: 0.9927 - val_loss: 0.1288 - val_acc: 1.0000\n",
      "Epoch 52/75\n",
      "274/274 [==============================] - 0s 791us/step - loss: 0.1242 - acc: 0.9964 - val_loss: 0.1243 - val_acc: 1.0000\n",
      "Epoch 53/75\n",
      "274/274 [==============================] - 0s 786us/step - loss: 0.1225 - acc: 0.9927 - val_loss: 0.1290 - val_acc: 0.9915\n",
      "Epoch 54/75\n",
      "274/274 [==============================] - 0s 797us/step - loss: 0.1206 - acc: 0.9927 - val_loss: 0.1200 - val_acc: 1.0000\n",
      "Epoch 55/75\n",
      "274/274 [==============================] - 0s 779us/step - loss: 0.1170 - acc: 0.9927 - val_loss: 0.1203 - val_acc: 1.0000\n",
      "Epoch 56/75\n",
      "274/274 [==============================] - 0s 797us/step - loss: 0.1153 - acc: 0.9927 - val_loss: 0.1147 - val_acc: 1.0000\n",
      "Epoch 57/75\n",
      "274/274 [==============================] - 0s 795us/step - loss: 0.1133 - acc: 0.9964 - val_loss: 0.1123 - val_acc: 1.0000\n",
      "Epoch 58/75\n",
      "274/274 [==============================] - 0s 787us/step - loss: 0.1104 - acc: 0.9927 - val_loss: 0.1107 - val_acc: 1.0000\n",
      "Epoch 59/75\n",
      "274/274 [==============================] - 0s 788us/step - loss: 0.1080 - acc: 0.9927 - val_loss: 0.1104 - val_acc: 1.0000\n",
      "Epoch 60/75\n",
      "274/274 [==============================] - 0s 786us/step - loss: 0.1074 - acc: 0.9927 - val_loss: 0.1087 - val_acc: 1.0000\n",
      "Epoch 61/75\n"
     ]
    },
    {
     "name": "stdout",
     "output_type": "stream",
     "text": [
      "274/274 [==============================] - 0s 804us/step - loss: 0.1046 - acc: 0.9927 - val_loss: 0.1040 - val_acc: 1.0000\n",
      "Epoch 62/75\n",
      "274/274 [==============================] - 0s 788us/step - loss: 0.1021 - acc: 0.9927 - val_loss: 0.1024 - val_acc: 1.0000\n",
      "Epoch 63/75\n",
      "274/274 [==============================] - 0s 784us/step - loss: 0.1014 - acc: 0.9927 - val_loss: 0.1013 - val_acc: 1.0000\n",
      "Epoch 64/75\n",
      "274/274 [==============================] - 0s 782us/step - loss: 0.0998 - acc: 0.9891 - val_loss: 0.0985 - val_acc: 1.0000\n",
      "Epoch 65/75\n",
      "274/274 [==============================] - 0s 778us/step - loss: 0.0976 - acc: 0.9927 - val_loss: 0.0976 - val_acc: 1.0000\n",
      "Epoch 66/75\n",
      "274/274 [==============================] - 0s 769us/step - loss: 0.0953 - acc: 0.9964 - val_loss: 0.0954 - val_acc: 1.0000\n",
      "Epoch 67/75\n",
      "274/274 [==============================] - 0s 779us/step - loss: 0.0939 - acc: 0.9927 - val_loss: 0.0952 - val_acc: 1.0000\n",
      "Epoch 68/75\n",
      "274/274 [==============================] - 0s 781us/step - loss: 0.0923 - acc: 0.9964 - val_loss: 0.0930 - val_acc: 1.0000\n",
      "Epoch 69/75\n",
      "274/274 [==============================] - 0s 780us/step - loss: 0.0918 - acc: 0.9927 - val_loss: 0.0905 - val_acc: 1.0000\n",
      "Epoch 70/75\n",
      "274/274 [==============================] - 0s 807us/step - loss: 0.0904 - acc: 0.9927 - val_loss: 0.0889 - val_acc: 1.0000\n",
      "Epoch 71/75\n",
      "274/274 [==============================] - 0s 808us/step - loss: 0.0884 - acc: 0.9927 - val_loss: 0.0895 - val_acc: 1.0000\n",
      "Epoch 72/75\n",
      "274/274 [==============================] - 0s 801us/step - loss: 0.0869 - acc: 0.9964 - val_loss: 0.0871 - val_acc: 1.0000\n",
      "Epoch 73/75\n",
      "274/274 [==============================] - 0s 787us/step - loss: 0.0847 - acc: 0.9927 - val_loss: 0.0900 - val_acc: 1.0000\n",
      "Epoch 74/75\n",
      "274/274 [==============================] - 0s 785us/step - loss: 0.0846 - acc: 0.9927 - val_loss: 0.0841 - val_acc: 1.0000\n",
      "Epoch 75/75\n",
      "274/274 [==============================] - 0s 782us/step - loss: 0.0829 - acc: 0.9927 - val_loss: 0.0837 - val_acc: 1.0000\n"
     ]
    }
   ],
   "source": [
    "# train the neural network\n",
    "H = model.fit(trainX, trainY, validation_data=(testX, testY), epochs=EPOCHS, batch_size=32)"
   ]
  },
  {
   "cell_type": "code",
   "execution_count": 156,
   "metadata": {},
   "outputs": [
    {
     "name": "stdout",
     "output_type": "stream",
     "text": [
      "[INFO] evaluating network...\n",
      "             precision    recall  f1-score   support\n",
      "\n",
      "       form       1.00      1.00      1.00        37\n",
      "        pic       1.00      1.00      1.00        81\n",
      "\n",
      "avg / total       1.00      1.00      1.00       118\n",
      "\n",
      "1.0\n"
     ]
    }
   ],
   "source": [
    "# evaluate the network\n",
    "print(\"[INFO] evaluating network...\")\n",
    "predictions = model.predict(testX, batch_size=32)\n",
    "print(classification_report(testY.argmax(axis=1), predictions.argmax(axis=1), target_names=[\"form\",\"pic\"]))\n",
    "print(accuracy_score(testY.argmax(axis=1), predictions.argmax(axis=1)))"
   ]
  },
  {
   "cell_type": "code",
   "execution_count": 157,
   "metadata": {},
   "outputs": [
    {
     "data": {
      "image/png": "[encoded data removed]",
      "text/plain": [
       "<Figure size 432x288 with 1 Axes>"
      ]
     },
     "metadata": {},
     "output_type": "display_data"
    }
   ],
   "source": [
    "# plot the training loss and accuracy\n",
    "N = np.arange(0, EPOCHS)\n",
    "plt.style.use(\"ggplot\")\n",
    "plt.figure()\n",
    "plt.plot(N, H.history[\"loss\"], label=\"train_loss\")\n",
    "plt.plot(N, H.history[\"val_loss\"], label=\"val_loss\")\n",
    "plt.plot(N, H.history[\"acc\"], label=\"train_acc\")\n",
    "plt.plot(N, H.history[\"val_acc\"], label=\"val_acc\")\n",
    "plt.title(\"Training Loss and Accuracy (Simple NN)\")\n",
    "plt.xlabel(\"Epoch #\")\n",
    "plt.ylabel(\"Loss/Accuracy\")\n",
    "plt.legend()\n",
    "plt.savefig(PLOT)"
   ]
  },
  {
   "cell_type": "code",
   "execution_count": 158,
   "metadata": {},
   "outputs": [
    {
     "name": "stdout",
     "output_type": "stream",
     "text": [
      "[INFO] serializing network and label binarizer...\n"
     ]
    }
   ],
   "source": [
    "# save the model and label binarizer to disk\n",
    "print(\"[INFO] serializing network and label binarizer...\")\n",
    "model.save(MODEL)\n",
    "f = open(MODEL, \"wb\")\n",
    "f.write(pickle.dumps(lb))\n",
    "f.close()"
   ]
  },
  {
   "cell_type": "markdown",
   "metadata": {},
   "source": [
    "## Feed new images into the model and have it predict whether the image is of a document or not."
   ]
  },
  {
   "cell_type": "code",
   "execution_count": 159,
   "metadata": {},
   "outputs": [],
   "source": [
    "newImage = '/Users/cpoole/Git/PracticeWeekProject2018Q3/forms_ORIGINAL/applications/00000001.jpg'\n",
    "\n",
    "newImage = cv2.imread(newImage)"
   ]
  },
  {
   "cell_type": "code",
   "execution_count": 160,
   "metadata": {},
   "outputs": [
    {
     "data": {
      "text/plain": [
       "<matplotlib.image.AxesImage at 0x1a3a6bbb38>"
      ]
     },
     "execution_count": 160,
     "metadata": {},
     "output_type": "execute_result"
    },
    {
     "data": {
      "image/png": "[encoded data removed]",
      "text/plain": [
       "<Figure size 432x288 with 1 Axes>"
      ]
     },
     "metadata": {},
     "output_type": "display_data"
    }
   ],
   "source": [
    "plt.imshow(newImage)"
   ]
  },
  {
   "cell_type": "code",
   "execution_count": 161,
   "metadata": {},
   "outputs": [],
   "source": [
    "newImageData = []\n",
    "newImage = cv2.resize(newImage, (32, 32)).flatten()"
   ]
  },
  {
   "cell_type": "code",
   "execution_count": 162,
   "metadata": {},
   "outputs": [],
   "source": [
    "newImageData.append(newImage)\n",
    "newImageData = np.array(newImageData, dtype=\"float\") / 255.0"
   ]
  },
  {
   "cell_type": "code",
   "execution_count": 163,
   "metadata": {},
   "outputs": [
    {
     "data": {
      "text/plain": [
       "(1, 3072)"
      ]
     },
     "execution_count": 163,
     "metadata": {},
     "output_type": "execute_result"
    }
   ],
   "source": [
    "newImageData.shape"
   ]
  },
  {
   "cell_type": "code",
   "execution_count": 164,
   "metadata": {},
   "outputs": [],
   "source": [
    "prediction = model.predict(newImageData, batch_size=1)"
   ]
  },
  {
   "cell_type": "code",
   "execution_count": 165,
   "metadata": {},
   "outputs": [],
   "source": [
    "def print_predicted_label():\n",
    "    \n",
    "    documentPrediction = prediction[0][0]\n",
    "    photoPrediction = prediction[0][1]\n",
    "    \n",
    "    if documentPrediction > photoPrediction:\n",
    "        print(str.format('The image is predicted to be a document with {} confidence.', documentPrediction))\n",
    "    elif photoPrediction > documentPrediction:\n",
    "        print(str.format('The image is predicted to be a photo with {} confidence.', photoPrediction))\n",
    "    else:\n",
    "        print('The image could not be predicted to be a document or photo.')"
   ]
  },
  {
   "cell_type": "code",
   "execution_count": 166,
   "metadata": {},
   "outputs": [
    {
     "name": "stdout",
     "output_type": "stream",
     "text": [
      "The image is predicted to be a document with 0.8893291354179382 confidence.\n"
     ]
    }
   ],
   "source": [
    "print_predicted_label()"
   ]
  }
 ],
 "metadata": {
  "kernelspec": {
   "display_name": "Python 3",
   "language": "python",
   "name": "python3"
  },
  "language_info": {
   "codemirror_mode": {
    "name": "ipython",
    "version": 3
   },
   "file_extension": ".py",
   "mimetype": "text/x-python",
   "name": "python",
   "nbconvert_exporter": "python",
   "pygments_lexer": "ipython3",
   "version": "3.6.5"
  }
 },
 "nbformat": 4,
 "nbformat_minor": 2
}
